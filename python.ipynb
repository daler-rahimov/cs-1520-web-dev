{
 "cells": [
  {
   "cell_type": "code",
   "execution_count": null,
   "metadata": {},
   "outputs": [],
   "source": [
    "    class Cat():\n",
    "        def __init__(self, name, limit, spend);\n",
    "            self.name= name\n",
    "            self.limit=limit\n",
    "            self.spend=spend\n",
    "    def = Cat(\"undefined\", 100, 100)\n",
    "    \n",
    "    class Pur():\n",
    "        def __init__(self, cat = def):\n",
    "    \n",
    "    p = Pur();\n",
    "    "
   ]
  },
  {
   "cell_type": "code",
   "execution_count": null,
   "metadata": {},
   "outputs": [],
   "source": [
    "    class Cat():\n",
    "        def __init__(self, name, limit, spend):\n",
    "            self.name= name\n",
    "            self.limit=limit\n",
    "            self.spend=spend\n",
    "    def = Cat(\"undefined\", 100, 100)\n",
    "    \n",
    "    class Pur():\n",
    "        def __init__(self, cat = def):\n",
    "    \n",
    "    p = Pur();"
   ]
  },
  {
   "cell_type": "code",
   "execution_count": null,
   "metadata": {},
   "outputs": [],
   "source": [
    "    class Cat():\n",
    "        def __init__(self, name, limit, spend);\n",
    "            self.name= name\n",
    "            self.limit=limit\n",
    "            self.spend=spend\n",
    "    def=Cat(\"undefined\", 100, 100)\n",
    "    \n",
    "    class Pur():\n",
    "        def __init__(self, cat = def):\n",
    "    \n",
    "    p = Pur();"
   ]
  },
  {
   "cell_type": "markdown",
   "metadata": {},
   "source": [
    "    class Cat():\n",
    "        def __init__(self, name, limit, spend):\n",
    "            self.name= name\n",
    "            self.limit=limit\n",
    "            self.spend=spend\n",
    "    def=Cat(\"undefined\", 100, 100)\n",
    "    \n",
    "    class Pur():\n",
    "        def __init__(self, cat = def):\n",
    "    \n",
    "    p = Pur()"
   ]
  },
  {
   "cell_type": "code",
   "execution_count": null,
   "metadata": {},
   "outputs": [],
   "source": [
    "class Test():\n",
    "    def __init__(self, attr=1):\n",
    "        self.attr = attr\n",
    "a=Test"
   ]
  },
  {
   "cell_type": "code",
   "execution_count": null,
   "metadata": {},
   "outputs": [],
   "source": [
    "a.attr"
   ]
  },
  {
   "cell_type": "code",
   "execution_count": null,
   "metadata": {},
   "outputs": [],
   "source": [
    "class Test():\n",
    "    def __init__(self, attr=1):\n",
    "        self.attr = attr\n",
    "a=Test\n",
    "a.attr"
   ]
  },
  {
   "cell_type": "markdown",
   "metadata": {},
   "source": [
    "class Test():"
   ]
  },
  {
   "cell_type": "code",
   "execution_count": 8,
   "metadata": {},
   "outputs": [
    {
     "ename": "SyntaxError",
     "evalue": "invalid syntax (<ipython-input-8-0cb0859fefee>, line 2)",
     "output_type": "error",
     "traceback": [
      "\u001b[0;36m  File \u001b[0;32m\"<ipython-input-8-0cb0859fefee>\"\u001b[0;36m, line \u001b[0;32m2\u001b[0m\n\u001b[0;31m    type i\u001b[0m\n\u001b[0m         ^\u001b[0m\n\u001b[0;31mSyntaxError\u001b[0m\u001b[0;31m:\u001b[0m invalid syntax\n"
     ]
    }
   ],
   "source": [
    "# i = 'Hello'\n",
    "type i \n"
   ]
  },
  {
   "cell_type": "code",
   "execution_count": 9,
   "metadata": {},
   "outputs": [
    {
     "name": "stdout",
     "output_type": "stream",
     "text": [
      "test\n"
     ]
    }
   ],
   "source": [
    "print (\"test\")"
   ]
  },
  {
   "cell_type": "code",
   "execution_count": 10,
   "metadata": {},
   "outputs": [
    {
     "ename": "AttributeError",
     "evalue": "type object 'Test' has no attribute 'attr'",
     "output_type": "error",
     "traceback": [
      "\u001b[0;31m---------------------------------------------------------------------------\u001b[0m",
      "\u001b[0;31mAttributeError\u001b[0m                            Traceback (most recent call last)",
      "\u001b[0;32m<ipython-input-10-be4986dbee8f>\u001b[0m in \u001b[0;36m<module>\u001b[0;34m()\u001b[0m\n\u001b[1;32m      3\u001b[0m         \u001b[0mself\u001b[0m\u001b[0;34m.\u001b[0m\u001b[0mattr\u001b[0m \u001b[0;34m=\u001b[0m \u001b[0mattr\u001b[0m\u001b[0;34m\u001b[0m\u001b[0m\n\u001b[1;32m      4\u001b[0m \u001b[0ma\u001b[0m\u001b[0;34m=\u001b[0m\u001b[0mTest\u001b[0m\u001b[0;34m\u001b[0m\u001b[0m\n\u001b[0;32m----> 5\u001b[0;31m \u001b[0ma\u001b[0m\u001b[0;34m.\u001b[0m\u001b[0mattr\u001b[0m\u001b[0;34m\u001b[0m\u001b[0m\n\u001b[0m",
      "\u001b[0;31mAttributeError\u001b[0m: type object 'Test' has no attribute 'attr'"
     ]
    }
   ],
   "source": [
    "class Test():\n",
    "    def __init__(self, attr=1):\n",
    "        self.attr = attr\n",
    "a=Test\n",
    "a.attr"
   ]
  },
  {
   "cell_type": "code",
   "execution_count": 11,
   "metadata": {},
   "outputs": [
    {
     "data": {
      "text/plain": [
       "1"
      ]
     },
     "execution_count": 11,
     "metadata": {},
     "output_type": "execute_result"
    }
   ],
   "source": [
    "class Test():\n",
    "    def __init__(self, attr=1):\n",
    "        self.attr = attr\n",
    "a=Test()\n",
    "a.attr"
   ]
  },
  {
   "cell_type": "code",
   "execution_count": 13,
   "metadata": {},
   "outputs": [
    {
     "ename": "SyntaxError",
     "evalue": "invalid syntax (<ipython-input-13-6b2efcd38b7a>, line 8)",
     "output_type": "error",
     "traceback": [
      "\u001b[0;36m  File \u001b[0;32m\"<ipython-input-13-6b2efcd38b7a>\"\u001b[0;36m, line \u001b[0;32m8\u001b[0m\n\u001b[0;31m    def __init__(self, cat = def):\u001b[0m\n\u001b[0m                               ^\u001b[0m\n\u001b[0;31mSyntaxError\u001b[0m\u001b[0;31m:\u001b[0m invalid syntax\n"
     ]
    }
   ],
   "source": [
    "    class Cat():\n",
    "        def __init__(self, name, limit, spend):\n",
    "            self.name= name\n",
    "            self.limit=limit\n",
    "            self.spend=spend\n",
    "   \n",
    "    class Pur():\n",
    "        def __init__(self, cat = def):\n",
    "    \n",
    "    p = Pur()"
   ]
  },
  {
   "cell_type": "code",
   "execution_count": 14,
   "metadata": {},
   "outputs": [
    {
     "ename": "SyntaxError",
     "evalue": "unexpected EOF while parsing (<ipython-input-14-9d5b6a89c52a>, line 8)",
     "output_type": "error",
     "traceback": [
      "\u001b[0;36m  File \u001b[0;32m\"<ipython-input-14-9d5b6a89c52a>\"\u001b[0;36m, line \u001b[0;32m8\u001b[0m\n\u001b[0;31m    def __init__(self, cat = Cat(\"u\",100,100)):\u001b[0m\n\u001b[0m                                               ^\u001b[0m\n\u001b[0;31mSyntaxError\u001b[0m\u001b[0;31m:\u001b[0m unexpected EOF while parsing\n"
     ]
    }
   ],
   "source": [
    "    class Cat():\n",
    "        def __init__(self, name, limit, spend):\n",
    "            self.name= name\n",
    "            self.limit=limit\n",
    "            self.spend=spend\n",
    "   \n",
    "    class Pur():\n",
    "        def __init__(self, cat = Cat(\"u\",100,100)):"
   ]
  },
  {
   "cell_type": "code",
   "execution_count": 15,
   "metadata": {},
   "outputs": [
    {
     "ename": "SyntaxError",
     "evalue": "invalid syntax (<ipython-input-15-8cb1ff28e5b9>, line 8)",
     "output_type": "error",
     "traceback": [
      "\u001b[0;36m  File \u001b[0;32m\"<ipython-input-15-8cb1ff28e5b9>\"\u001b[0;36m, line \u001b[0;32m8\u001b[0m\n\u001b[0;31m    global defaultCat = Cat('undefined',100,100)\u001b[0m\n\u001b[0m                      ^\u001b[0m\n\u001b[0;31mSyntaxError\u001b[0m\u001b[0;31m:\u001b[0m invalid syntax\n"
     ]
    }
   ],
   "source": [
    "    class Cat():\n",
    "        def __init__(self, name, limit, spend):\n",
    "            self.name= name\n",
    "            self.limit=limit\n",
    "            self.spend=spend\n",
    "   \n",
    "    class Pur():\n",
    "        global defaultCat = Cat('undefined',100,100)\n",
    "        def __init__(self, cat =None):\n",
    "            if cat is None:\n",
    "                self.cat = defaultCat\n",
    "            else:\n",
    "                self.cat = cat \n",
    "    \n",
    "    \n",
    "            \n",
    "            "
   ]
  },
  {
   "cell_type": "code",
   "execution_count": 16,
   "metadata": {},
   "outputs": [],
   "source": [
    "class Cat():\n",
    "    def __init__(self, name, limit, spend):\n",
    "        self.name= name\n",
    "        self.limit=limit\n",
    "        self.spend=spend\n",
    "defaultCat = Cat('undefined',100,100)\n",
    "\n",
    "        "
   ]
  },
  {
   "cell_type": "code",
   "execution_count": 17,
   "metadata": {},
   "outputs": [
    {
     "data": {
      "text/plain": [
       "'undefined'"
      ]
     },
     "execution_count": 17,
     "metadata": {},
     "output_type": "execute_result"
    }
   ],
   "source": [
    "class Cat():\n",
    "    def __init__(self, name, limit, spend):\n",
    "        self.name= name\n",
    "        self.limit=limit\n",
    "        self.spend=spend\n",
    "defaultCat = Cat('undefined',100,100)\n",
    "\n",
    "defaultCat.name"
   ]
  },
  {
   "cell_type": "code",
   "execution_count": 18,
   "metadata": {},
   "outputs": [
    {
     "ename": "SyntaxError",
     "evalue": "invalid syntax (<ipython-input-18-d5ff63574270>, line 8)",
     "output_type": "error",
     "traceback": [
      "\u001b[0;36m  File \u001b[0;32m\"<ipython-input-18-d5ff63574270>\"\u001b[0;36m, line \u001b[0;32m8\u001b[0m\n\u001b[0;31m    global defaultCat = Cat('undefined',100,100)\u001b[0m\n\u001b[0m                      ^\u001b[0m\n\u001b[0;31mSyntaxError\u001b[0m\u001b[0;31m:\u001b[0m invalid syntax\n"
     ]
    }
   ],
   "source": [
    "class Cat():\n",
    "    def __init__(self, name, limit, spend):\n",
    "        self.name= name\n",
    "        self.limit=limit\n",
    "        self.spend=spend\n",
    "        \n",
    "class Pur():\n",
    "    global defaultCat = Cat('undefined',100,100)\n",
    "    def __init__(self, cat =None):\n",
    "        if cat is None:\n",
    "            self.cat = defaultCat\n",
    "        else:\n",
    "            self.cat = cat "
   ]
  },
  {
   "cell_type": "code",
   "execution_count": 19,
   "metadata": {},
   "outputs": [],
   "source": [
    "class Cat():\n",
    "    def __init__(self, name, limit, spend):\n",
    "        self.name= name\n",
    "        self.limit=limit\n",
    "        self.spend=spend\n",
    "        \n",
    "class Pur():\n",
    "    defaultCat = Cat('undefined',100,100)\n",
    "    def __init__(self, cat =None):\n",
    "        if cat is None:\n",
    "            self.cat = defaultCat\n",
    "        else:\n",
    "            self.cat = cat "
   ]
  },
  {
   "cell_type": "code",
   "execution_count": 20,
   "metadata": {},
   "outputs": [
    {
     "ename": "SyntaxError",
     "evalue": "invalid syntax (<ipython-input-20-d5ff63574270>, line 8)",
     "output_type": "error",
     "traceback": [
      "\u001b[0;36m  File \u001b[0;32m\"<ipython-input-20-d5ff63574270>\"\u001b[0;36m, line \u001b[0;32m8\u001b[0m\n\u001b[0;31m    global defaultCat = Cat('undefined',100,100)\u001b[0m\n\u001b[0m                      ^\u001b[0m\n\u001b[0;31mSyntaxError\u001b[0m\u001b[0;31m:\u001b[0m invalid syntax\n"
     ]
    }
   ],
   "source": [
    "class Cat():\n",
    "    def __init__(self, name, limit, spend):\n",
    "        self.name= name\n",
    "        self.limit=limit\n",
    "        self.spend=spend\n",
    "        \n",
    "class Pur():\n",
    "    global defaultCat = Cat('undefined',100,100)\n",
    "    def __init__(self, cat =None):\n",
    "        if cat is None:\n",
    "            self.cat = defaultCat\n",
    "        else:\n",
    "            self.cat = cat "
   ]
  },
  {
   "cell_type": "code",
   "execution_count": 21,
   "metadata": {},
   "outputs": [
    {
     "data": {
      "text/plain": [
       "'undefined'"
      ]
     },
     "execution_count": 21,
     "metadata": {},
     "output_type": "execute_result"
    }
   ],
   "source": [
    "class Cat():\n",
    "    def __init__(self, name, limit, spend):\n",
    "        self.name= name\n",
    "        self.limit=limit\n",
    "        self.spend=spend\n",
    "        \n",
    "class Pur():\n",
    "    defaultCat = Cat('undefined',100,100)\n",
    "    def __init__(self, cat =None):\n",
    "        if cat is None:\n",
    "            self.cat = defaultCat\n",
    "        else:\n",
    "            self.cat = cat \n",
    "p=Pur()\n",
    "p.cat.name"
   ]
  },
  {
   "cell_type": "code",
   "execution_count": 23,
   "metadata": {},
   "outputs": [],
   "source": [
    "class Cat():\n",
    "    def __init__(self, name, limit, spend):\n",
    "        self.name= name\n",
    "        self.limit=limit\n",
    "        self.spend=spend\n",
    "        \n",
    "class Pur():\n",
    "    defaultCat = Cat(\"undefined\",100,100)\n",
    "    def __init__(self, cat =None):\n",
    "        if cat is None:\n",
    "            self.cat = defaultCat\n",
    "        else:\n",
    "            self.cat = cat \n",
    "            \n"
   ]
  },
  {
   "cell_type": "code",
   "execution_count": 22,
   "metadata": {},
   "outputs": [
    {
     "data": {
      "text/plain": [
       "200"
      ]
     },
     "execution_count": 22,
     "metadata": {},
     "output_type": "execute_result"
    }
   ],
   "source": [
    "class Cat():\n",
    "    def __init__(self, name, limit, spend):\n",
    "        self.name= name\n",
    "        self.limit=limit\n",
    "        self.spend=spend\n",
    "        \n",
    "class Pur():\n",
    "    defaultCat = Cat(\"undefined\",100,100)\n",
    "    def __init__(self, cat =None):\n",
    "        if cat is None:\n",
    "            self.cat = defaultCat\n",
    "        else:\n",
    "            self.cat = cat \n",
    "p=Pur()\n",
    "p.cat.limit\n",
    "p2=Pur()\n",
    "p2.cat.limit=200\n",
    "p.cat.limit"
   ]
  },
  {
   "cell_type": "code",
   "execution_count": 24,
   "metadata": {},
   "outputs": [
    {
     "data": {
      "text/plain": [
       "'undefined'"
      ]
     },
     "execution_count": 24,
     "metadata": {},
     "output_type": "execute_result"
    }
   ],
   "source": [
    "Pur.defaultCat.name"
   ]
  },
  {
   "cell_type": "code",
   "execution_count": 27,
   "metadata": {},
   "outputs": [],
   "source": [
    "a=[]\n",
    "a.append(p)\n"
   ]
  },
  {
   "cell_type": "code",
   "execution_count": 28,
   "metadata": {},
   "outputs": [
    {
     "data": {
      "text/plain": [
       "'undefined'"
      ]
     },
     "execution_count": 28,
     "metadata": {},
     "output_type": "execute_result"
    }
   ],
   "source": [
    "a[0].defaultCat.name"
   ]
  },
  {
   "cell_type": "code",
   "execution_count": null,
   "metadata": {},
   "outputs": [],
   "source": []
  },
  {
   "cell_type": "code",
   "execution_count": null,
   "metadata": {},
   "outputs": [],
   "source": []
  }
 ],
 "metadata": {
  "kernelspec": {
   "display_name": "Python 3",
   "language": "python",
   "name": "python3"
  },
  "language_info": {
   "codemirror_mode": {
    "name": "ipython",
    "version": 3
   },
   "file_extension": ".py",
   "mimetype": "text/x-python",
   "name": "python",
   "nbconvert_exporter": "python",
   "pygments_lexer": "ipython3",
   "version": "3.5.3"
  }
 },
 "nbformat": 4,
 "nbformat_minor": 2
}
